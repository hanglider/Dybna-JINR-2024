{
 "cells": [
  {
   "cell_type": "code",
   "execution_count": 3,
   "id": "4ff56900-89f8-4759-a33c-0feaf9dbf5ff",
   "metadata": {},
   "outputs": [],
   "source": [
    "from scipy.integrate import solve_ivp\n",
    "from functools import partial\n",
    "import numpy as np\n",
    "import platform\n",
    "import socket\n",
    "from joblib import Parallel, delayed\n",
    "import ipywidgets as widgets\n",
    "from ipywidgets import interact, interact_manual, Label\n",
    "from scipy.optimize import curve_fit\n",
    "from scipy import odr\n",
    "from scipy.integrate import solve_ivp\n",
    "from functools import partial\n",
    "from scipy.integrate import quad\n",
    "import matplotlib as mpl\n",
    "import matplotlib.pyplot as plt\n",
    "import sys\n",
    "sys.setrecursionlimit(10000)"
   ]
  },
  {
   "cell_type": "code",
   "execution_count": 4,
   "id": "e829bf7d-7203-4f48-b92c-a74bfe0d0da6",
   "metadata": {},
   "outputs": [],
   "source": [
    "Npoint = 1000\n",
    "arr_mx = np.linspace(-1, 1, Npoint, endpoint=True)\n",
    "arr_Ix = np.zeros(Npoint, dtype=np.float64)\n",
    "arr_Iy = np.zeros(Npoint, dtype=np.float64)\n",
    "arr_errx = np.zeros(Npoint, dtype=np.float64)\n",
    "arr_erry = np.zeros(Npoint, dtype=np.float64)\n",
    "\n",
    "G = 4.5 # отношение энергии Джозефсона к энергии магнитной анизотропии\n",
    "r = 0.5 # параметр спин−орбитального взаимодействия\n",
    "d = 0.3 # безразмерная длина джозефсоновского перехода\n",
    "wF = 1  # собственная частота ферромагнитного резонанса\n",
    "alpha = 0.01 # параметр гильбертовского затухания\n",
    "V = 5  # напряжение в джозефсоновском переходе\n",
    "\n",
    "t0 = 0\n",
    "tf = 1500\n",
    "nt = 15000\n",
    "\n",
    "mx0 = -0.5\n",
    "mz0 = 0\n",
    "my0 = np.sqrt(1-mx0*mx0-mz0*mz0)"
   ]
  },
  {
   "cell_type": "code",
   "execution_count": 5,
   "id": "251d9dd6-2ded-4ab7-b40e-916478459408",
   "metadata": {},
   "outputs": [
    {
     "name": "stdout",
     "output_type": "stream",
     "text": [
      "CPU times: total: 0 ns\n",
      "Wall time: 1 ms\n"
     ]
    }
   ],
   "source": [
    "%%time\n",
    "def jc0(d):\n",
    "    '''Определяет функцию для критического тока при отсутствии F слоя'''\n",
    "    result, error = quad(lambda phi: np.cos(phi) * np.exp(-d / np.cos(phi)),\n",
    "                         -np.pi/2, np.pi/2)\n",
    "    return result\n",
    "Jc0 = jc0(d)\n",
    "J0 = Jc0\n",
    "\n",
    "def funct_Ix(phi, mx, r, d):\n",
    "    return np.sin(phi) * np.exp(-d / np.cos(phi)) * np.sin(r * mx * np.tan(phi))\n",
    "\n",
    "def funct_Iy(phi, mx, r, d):\n",
    "    return np.cos(phi) * np.exp(-d / np.cos(phi)) * np.cos(r * mx * np.tan(phi))\n"
   ]
  },
  {
   "cell_type": "code",
   "execution_count": 6,
   "id": "66c8a245-3da4-4749-bbab-39682707efad",
   "metadata": {},
   "outputs": [
    {
     "name": "stdout",
     "output_type": "stream",
     "text": [
      "CPU times: total: 0 ns\n",
      "Wall time: 0 ns\n"
     ]
    }
   ],
   "source": [
    "%%time\n",
    "def my_sfs(t, S, G, r, alpha, wF, d, V, J0, Ixfit, Iyfit):\n",
    "    mx, my, mz = S\n",
    "\n",
    "    # Вычисляем Jx и Jy только один раз\n",
    "    Jx = Ixfit(mx)\n",
    "    Jy = Iyfit(mx)\n",
    "\n",
    "    # Предварительные вычисления для ускорения работы\n",
    "    cos_Vt_rmy = np.cos(V*t - r*my)\n",
    "    sin_Vt_rmy = np.sin(V*t - r*my)\n",
    "\n",
    "    # Оптимизация Hx, Hy\n",
    "    Hx = (G * r * Jx / J0) * (1 - cos_Vt_rmy)\n",
    "    Hy = (G * r * Jy / J0) * sin_Vt_rmy + my\n",
    "    Hz = 0  # Hz постоянен и равен 0\n",
    "\n",
    "    # Используем numpy-векторизацию для более быстрых расчетов\n",
    "    H = np.array([Hx, Hy, Hz])\n",
    "    M = np.array([mx, my, mz])\n",
    "    \n",
    "    m2 = np.dot(M, M)\n",
    "    HdM = np.dot(H, M)\n",
    "\n",
    "    # Оптимизация с предвычислениями\n",
    "    ksi = -wF / (1 + alpha**2 * m2)\n",
    "\n",
    "    dmx = ksi * ((my*Hz - mz*Hy) + alpha * (mx * HdM - Hx * m2))\n",
    "    dmy = ksi * ((mz*Hx - mx*Hz) + alpha * (my * HdM - Hy * m2))\n",
    "    dmz = ksi * ((mx*Hy - my*Hx) + alpha * (mz * HdM - Hz * m2))\n",
    "\n",
    "    return np.array([dmx, dmy, dmz])\n",
    "\n"
   ]
  },
  {
   "cell_type": "code",
   "execution_count": 7,
   "id": "9a815fef-9df6-41fb-b36d-35f8874c118a",
   "metadata": {},
   "outputs": [
    {
     "name": "stdout",
     "output_type": "stream",
     "text": [
      "CPU times: total: 703 ms\n",
      "Wall time: 2.72 s\n"
     ]
    }
   ],
   "source": [
    "%%time\n",
    "def compute_integrals(mx, r, d):\n",
    "    Ix, errx = quad(funct_Ix, -np.pi/2, np.pi/2, args=(mx, r, d))\n",
    "    Iy, erry = quad(funct_Iy, -np.pi/2, np.pi/2, args=(mx, r, d))\n",
    "    return Ix, errx, Iy, erry\n",
    "\n",
    "# параллельное выполнение\n",
    "results = Parallel(n_jobs=-1)(delayed(compute_integrals)(mx, r, d) for mx in arr_mx)\n",
    "\n",
    "# распаковка результатов\n",
    "for ind, result in enumerate(results):\n",
    "    arr_Ix[ind], arr_errx[ind], arr_Iy[ind], arr_erry[ind] = result\n",
    "    "
   ]
  },
  {
   "cell_type": "code",
   "execution_count": 8,
   "id": "a3772ea0-49b6-4d7a-ad2c-05e96678691d",
   "metadata": {},
   "outputs": [
    {
     "name": "stdout",
     "output_type": "stream",
     "text": [
      "CPU times: total: 125 ms\n",
      "Wall time: 122 ms\n"
     ]
    }
   ],
   "source": [
    "%%time\n",
    "def compute_odr_fit(data, degree):\n",
    "    poly_model = odr.polynomial(degree)\n",
    "    odr_obj = odr.ODR(data, poly_model)\n",
    "    output = odr_obj.run()\n",
    "    return np.poly1d(output.beta[::-1])\n",
    "\n",
    "# создание данных для параллельного ODR\n",
    "data_Ix = odr.Data(arr_mx, arr_Ix)\n",
    "data_Iy = odr.Data(arr_mx, arr_Iy)\n",
    "Ixfit = compute_odr_fit(data_Ix, 9)\n",
    "Iyfit = compute_odr_fit(data_Iy, 8)"
   ]
  },
  {
   "cell_type": "code",
   "execution_count": 9,
   "id": "57093aaf-6812-47cf-99dc-a1c148aba834",
   "metadata": {},
   "outputs": [
    {
     "ename": "NameError",
     "evalue": "name 'f' is not defined",
     "output_type": "error",
     "traceback": [
      "\u001b[1;31m---------------------------------------------------------------------------\u001b[0m",
      "\u001b[1;31m_RemoteTraceback\u001b[0m                          Traceback (most recent call last)",
      "\u001b[1;31m_RemoteTraceback\u001b[0m: \n\"\"\"\nTraceback (most recent call last):\n  File \"c:\\IT\\hakaton\\.venv\\lib\\site-packages\\joblib\\externals\\loky\\process_executor.py\", line 463, in _process_worker\n    r = call_item()\n  File \"c:\\IT\\hakaton\\.venv\\lib\\site-packages\\joblib\\externals\\loky\\process_executor.py\", line 291, in __call__\n    return self.fn(*self.args, **self.kwargs)\n  File \"c:\\IT\\hakaton\\.venv\\lib\\site-packages\\joblib\\parallel.py\", line 598, in __call__\n    return [func(*args, **kwargs)\n  File \"c:\\IT\\hakaton\\.venv\\lib\\site-packages\\joblib\\parallel.py\", line 598, in <listcomp>\n    return [func(*args, **kwargs)\n  File \"<timed exec>\", line 2, in integrate_interval\nNameError: name 'f' is not defined\n\"\"\"",
      "\nThe above exception was the direct cause of the following exception:\n",
      "\u001b[1;31mNameError\u001b[0m                                 Traceback (most recent call last)",
      "File \u001b[1;32m<timed exec>:5\u001b[0m\n",
      "File \u001b[1;32mc:\\IT\\hakaton\\.venv\\lib\\site-packages\\joblib\\parallel.py:2007\u001b[0m, in \u001b[0;36mParallel.__call__\u001b[1;34m(self, iterable)\u001b[0m\n\u001b[0;32m   2001\u001b[0m \u001b[38;5;66;03m# The first item from the output is blank, but it makes the interpreter\u001b[39;00m\n\u001b[0;32m   2002\u001b[0m \u001b[38;5;66;03m# progress until it enters the Try/Except block of the generator and\u001b[39;00m\n\u001b[0;32m   2003\u001b[0m \u001b[38;5;66;03m# reaches the first `yield` statement. This starts the asynchronous\u001b[39;00m\n\u001b[0;32m   2004\u001b[0m \u001b[38;5;66;03m# dispatch of the tasks to the workers.\u001b[39;00m\n\u001b[0;32m   2005\u001b[0m \u001b[38;5;28mnext\u001b[39m(output)\n\u001b[1;32m-> 2007\u001b[0m \u001b[38;5;28;01mreturn\u001b[39;00m output \u001b[38;5;28;01mif\u001b[39;00m \u001b[38;5;28mself\u001b[39m\u001b[38;5;241m.\u001b[39mreturn_generator \u001b[38;5;28;01melse\u001b[39;00m \u001b[38;5;28;43mlist\u001b[39;49m\u001b[43m(\u001b[49m\u001b[43moutput\u001b[49m\u001b[43m)\u001b[49m\n",
      "File \u001b[1;32mc:\\IT\\hakaton\\.venv\\lib\\site-packages\\joblib\\parallel.py:1650\u001b[0m, in \u001b[0;36mParallel._get_outputs\u001b[1;34m(self, iterator, pre_dispatch)\u001b[0m\n\u001b[0;32m   1647\u001b[0m     \u001b[38;5;28;01myield\u001b[39;00m\n\u001b[0;32m   1649\u001b[0m     \u001b[38;5;28;01mwith\u001b[39;00m \u001b[38;5;28mself\u001b[39m\u001b[38;5;241m.\u001b[39m_backend\u001b[38;5;241m.\u001b[39mretrieval_context():\n\u001b[1;32m-> 1650\u001b[0m         \u001b[38;5;28;01myield from\u001b[39;00m \u001b[38;5;28mself\u001b[39m\u001b[38;5;241m.\u001b[39m_retrieve()\n\u001b[0;32m   1652\u001b[0m \u001b[38;5;28;01mexcept\u001b[39;00m \u001b[38;5;167;01mGeneratorExit\u001b[39;00m:\n\u001b[0;32m   1653\u001b[0m     \u001b[38;5;66;03m# The generator has been garbage collected before being fully\u001b[39;00m\n\u001b[0;32m   1654\u001b[0m     \u001b[38;5;66;03m# consumed. This aborts the remaining tasks if possible and warn\u001b[39;00m\n\u001b[0;32m   1655\u001b[0m     \u001b[38;5;66;03m# the user if necessary.\u001b[39;00m\n\u001b[0;32m   1656\u001b[0m     \u001b[38;5;28mself\u001b[39m\u001b[38;5;241m.\u001b[39m_exception \u001b[38;5;241m=\u001b[39m \u001b[38;5;28;01mTrue\u001b[39;00m\n",
      "File \u001b[1;32mc:\\IT\\hakaton\\.venv\\lib\\site-packages\\joblib\\parallel.py:1754\u001b[0m, in \u001b[0;36mParallel._retrieve\u001b[1;34m(self)\u001b[0m\n\u001b[0;32m   1747\u001b[0m \u001b[38;5;28;01mwhile\u001b[39;00m \u001b[38;5;28mself\u001b[39m\u001b[38;5;241m.\u001b[39m_wait_retrieval():\n\u001b[0;32m   1748\u001b[0m \n\u001b[0;32m   1749\u001b[0m     \u001b[38;5;66;03m# If the callback thread of a worker has signaled that its task\u001b[39;00m\n\u001b[0;32m   1750\u001b[0m     \u001b[38;5;66;03m# triggered an exception, or if the retrieval loop has raised an\u001b[39;00m\n\u001b[0;32m   1751\u001b[0m     \u001b[38;5;66;03m# exception (e.g. `GeneratorExit`), exit the loop and surface the\u001b[39;00m\n\u001b[0;32m   1752\u001b[0m     \u001b[38;5;66;03m# worker traceback.\u001b[39;00m\n\u001b[0;32m   1753\u001b[0m     \u001b[38;5;28;01mif\u001b[39;00m \u001b[38;5;28mself\u001b[39m\u001b[38;5;241m.\u001b[39m_aborting:\n\u001b[1;32m-> 1754\u001b[0m         \u001b[38;5;28;43mself\u001b[39;49m\u001b[38;5;241;43m.\u001b[39;49m\u001b[43m_raise_error_fast\u001b[49m\u001b[43m(\u001b[49m\u001b[43m)\u001b[49m\n\u001b[0;32m   1755\u001b[0m         \u001b[38;5;28;01mbreak\u001b[39;00m\n\u001b[0;32m   1757\u001b[0m     \u001b[38;5;66;03m# If the next job is not ready for retrieval yet, we just wait for\u001b[39;00m\n\u001b[0;32m   1758\u001b[0m     \u001b[38;5;66;03m# async callbacks to progress.\u001b[39;00m\n",
      "File \u001b[1;32mc:\\IT\\hakaton\\.venv\\lib\\site-packages\\joblib\\parallel.py:1789\u001b[0m, in \u001b[0;36mParallel._raise_error_fast\u001b[1;34m(self)\u001b[0m\n\u001b[0;32m   1785\u001b[0m \u001b[38;5;66;03m# If this error job exists, immediately raise the error by\u001b[39;00m\n\u001b[0;32m   1786\u001b[0m \u001b[38;5;66;03m# calling get_result. This job might not exists if abort has been\u001b[39;00m\n\u001b[0;32m   1787\u001b[0m \u001b[38;5;66;03m# called directly or if the generator is gc'ed.\u001b[39;00m\n\u001b[0;32m   1788\u001b[0m \u001b[38;5;28;01mif\u001b[39;00m error_job \u001b[38;5;129;01mis\u001b[39;00m \u001b[38;5;129;01mnot\u001b[39;00m \u001b[38;5;28;01mNone\u001b[39;00m:\n\u001b[1;32m-> 1789\u001b[0m     \u001b[43merror_job\u001b[49m\u001b[38;5;241;43m.\u001b[39;49m\u001b[43mget_result\u001b[49m\u001b[43m(\u001b[49m\u001b[38;5;28;43mself\u001b[39;49m\u001b[38;5;241;43m.\u001b[39;49m\u001b[43mtimeout\u001b[49m\u001b[43m)\u001b[49m\n",
      "File \u001b[1;32mc:\\IT\\hakaton\\.venv\\lib\\site-packages\\joblib\\parallel.py:745\u001b[0m, in \u001b[0;36mBatchCompletionCallBack.get_result\u001b[1;34m(self, timeout)\u001b[0m\n\u001b[0;32m    739\u001b[0m backend \u001b[38;5;241m=\u001b[39m \u001b[38;5;28mself\u001b[39m\u001b[38;5;241m.\u001b[39mparallel\u001b[38;5;241m.\u001b[39m_backend\n\u001b[0;32m    741\u001b[0m \u001b[38;5;28;01mif\u001b[39;00m backend\u001b[38;5;241m.\u001b[39msupports_retrieve_callback:\n\u001b[0;32m    742\u001b[0m     \u001b[38;5;66;03m# We assume that the result has already been retrieved by the\u001b[39;00m\n\u001b[0;32m    743\u001b[0m     \u001b[38;5;66;03m# callback thread, and is stored internally. It's just waiting to\u001b[39;00m\n\u001b[0;32m    744\u001b[0m     \u001b[38;5;66;03m# be returned.\u001b[39;00m\n\u001b[1;32m--> 745\u001b[0m     \u001b[38;5;28;01mreturn\u001b[39;00m \u001b[38;5;28;43mself\u001b[39;49m\u001b[38;5;241;43m.\u001b[39;49m\u001b[43m_return_or_raise\u001b[49m\u001b[43m(\u001b[49m\u001b[43m)\u001b[49m\n\u001b[0;32m    747\u001b[0m \u001b[38;5;66;03m# For other backends, the main thread needs to run the retrieval step.\u001b[39;00m\n\u001b[0;32m    748\u001b[0m \u001b[38;5;28;01mtry\u001b[39;00m:\n",
      "File \u001b[1;32mc:\\IT\\hakaton\\.venv\\lib\\site-packages\\joblib\\parallel.py:763\u001b[0m, in \u001b[0;36mBatchCompletionCallBack._return_or_raise\u001b[1;34m(self)\u001b[0m\n\u001b[0;32m    761\u001b[0m \u001b[38;5;28;01mtry\u001b[39;00m:\n\u001b[0;32m    762\u001b[0m     \u001b[38;5;28;01mif\u001b[39;00m \u001b[38;5;28mself\u001b[39m\u001b[38;5;241m.\u001b[39mstatus \u001b[38;5;241m==\u001b[39m TASK_ERROR:\n\u001b[1;32m--> 763\u001b[0m         \u001b[38;5;28;01mraise\u001b[39;00m \u001b[38;5;28mself\u001b[39m\u001b[38;5;241m.\u001b[39m_result\n\u001b[0;32m    764\u001b[0m     \u001b[38;5;28;01mreturn\u001b[39;00m \u001b[38;5;28mself\u001b[39m\u001b[38;5;241m.\u001b[39m_result\n\u001b[0;32m    765\u001b[0m \u001b[38;5;28;01mfinally\u001b[39;00m:\n",
      "\u001b[1;31mNameError\u001b[0m: name 'f' is not defined"
     ]
    }
   ],
   "source": [
    "%%time\n",
    "def integrate_interval(t_start, t_end):\n",
    "    return solve_ivp(f, [t_start, t_end], s0, t_eval=np.linspace(t_start, t_end, nt//4), method='RK45', rtol=1e-8, atol=1e-8)\n",
    "\n",
    "# Параллельная обработка\n",
    "results = Parallel(n_jobs=40)(delayed(integrate_interval)(t_start, t_end) \n",
    "                              for t_start, t_end in [(0, 500), (500, 1000), (1000, 1500)])\n",
    "\n",
    "# Объединяем результаты\n",
    "sol_1 = np.concatenate([res.y for res in results], axis=1)"
   ]
  },
  {
   "cell_type": "code",
   "execution_count": 10,
   "id": "bb2ac0fd-64f8-4c70-8c10-d6dda337c916",
   "metadata": {},
   "outputs": [
    {
     "ename": "NameError",
     "evalue": "name 'sol_1' is not defined",
     "output_type": "error",
     "traceback": [
      "\u001b[1;31m---------------------------------------------------------------------------\u001b[0m",
      "\u001b[1;31mNameError\u001b[0m                                 Traceback (most recent call last)",
      "Cell \u001b[1;32mIn[10], line 1\u001b[0m\n\u001b[1;32m----> 1\u001b[0m \u001b[43msol_1\u001b[49m\n",
      "\u001b[1;31mNameError\u001b[0m: name 'sol_1' is not defined"
     ]
    }
   ],
   "source": [
    "sol_1"
   ]
  },
  {
   "cell_type": "code",
   "execution_count": 17,
   "id": "c3bc2a57-4ab9-48dc-9967-e70a588e5291",
   "metadata": {},
   "outputs": [
    {
     "ename": "AttributeError",
     "evalue": "'numpy.ndarray' object has no attribute 't'",
     "output_type": "error",
     "traceback": [
      "\u001b[0;31m---------------------------------------------------------------------------\u001b[0m",
      "\u001b[0;31mAttributeError\u001b[0m                            Traceback (most recent call last)",
      "Cell \u001b[0;32mIn[17], line 4\u001b[0m\n\u001b[1;32m      2\u001b[0m plt\u001b[38;5;241m.\u001b[39msubplot(\u001b[38;5;241m1\u001b[39m, \u001b[38;5;241m3\u001b[39m, \u001b[38;5;241m1\u001b[39m)\n\u001b[1;32m      3\u001b[0m plt\u001b[38;5;241m.\u001b[39mylim(\u001b[38;5;241m-\u001b[39m\u001b[38;5;241m1.2\u001b[39m, \u001b[38;5;241m1.2\u001b[39m)\n\u001b[0;32m----> 4\u001b[0m plt\u001b[38;5;241m.\u001b[39mplot(sol_1\u001b[38;5;241m.\u001b[39mt, sol_1\u001b[38;5;241m.\u001b[39my[\u001b[38;5;241m0\u001b[39m], label\u001b[38;5;241m=\u001b[39m\u001b[38;5;124m'\u001b[39m\u001b[38;5;124mКомпонента $m_x $\u001b[39m\u001b[38;5;124m'\u001b[39m, color\u001b[38;5;241m=\u001b[39m\u001b[38;5;124m'\u001b[39m\u001b[38;5;124mb\u001b[39m\u001b[38;5;124m'\u001b[39m)\n\u001b[1;32m      5\u001b[0m plt\u001b[38;5;241m.\u001b[39mxlabel(\u001b[38;5;124m'\u001b[39m\u001b[38;5;124mt\u001b[39m\u001b[38;5;124m'\u001b[39m, size\u001b[38;5;241m=\u001b[39m\u001b[38;5;241m16\u001b[39m)\n\u001b[1;32m      6\u001b[0m plt\u001b[38;5;241m.\u001b[39mylabel(\u001b[38;5;124m'\u001b[39m\u001b[38;5;124m$m_\u001b[39m\u001b[38;5;132;01m{x}\u001b[39;00m\u001b[38;5;124m$\u001b[39m\u001b[38;5;124m'\u001b[39m, size\u001b[38;5;241m=\u001b[39m\u001b[38;5;241m16\u001b[39m)\n",
      "\u001b[0;31mAttributeError\u001b[0m: 'numpy.ndarray' object has no attribute 't'"
     ]
    },
    {
     "data": {
      "image/png": "[encoded data removed]",
      "text/plain": [
       "<Figure size 1800x600 with 1 Axes>"
      ]
     },
     "metadata": {},
     "output_type": "display_data"
    }
   ],
   "source": [
    "plt.figure(figsize=(18, 6))\n",
    "plt.subplot(1, 3, 1)\n",
    "plt.ylim(-1.2, 1.2)\n",
    "plt.plot(sol_1.t, sol_1.y[0], label='Компонента $m_x $', color='b')\n",
    "plt.xlabel('t', size=16)\n",
    "plt.ylabel('$m_{x}$', size=16)\n",
    "plt.legend(fontsize=12)\n",
    "plt.subplot(1, 3, 2)\n",
    "plt.ylim(-1.2, 1.2)\n",
    "plt.plot(sol_1.t, sol_1.y[1], label='Компонента $m_y $', color='g')\n",
    "plt.xlabel('t', size=16)\n",
    "plt.ylabel('$m_{y}$', size=16)\n",
    "plt.legend(fontsize=12)\n",
    "plt.subplot(1, 3, 3)\n",
    "plt.ylim(-1.2, 1.2)\n",
    "plt.plot(sol_1.t, sol_1.y[2], label='Компонента $m_z $', color='r')\n",
    "plt.xlabel('t', size=16)\n",
    "plt.ylabel('$m_{z}$', size=16)\n",
    "plt.legend(fontsize=12)\n",
    "plt.show()\n"
   ]
  },
  {
   "cell_type": "code",
   "execution_count": null,
   "id": "2d07d518-fb3d-4873-ba27-a2f5e9bcf76b",
   "metadata": {},
   "outputs": [],
   "source": []
  }
 ],
 "metadata": {
  "kernelspec": {
   "display_name": ".venv",
   "language": "python",
   "name": "python3"
  },
  "language_info": {
   "codemirror_mode": {
    "name": "ipython",
    "version": 3
   },
   "file_extension": ".py",
   "mimetype": "text/x-python",
   "name": "python",
   "nbconvert_exporter": "python",
   "pygments_lexer": "ipython3",
   "version": "3.10.4"
  }
 },
 "nbformat": 4,
 "nbformat_minor": 5
}
